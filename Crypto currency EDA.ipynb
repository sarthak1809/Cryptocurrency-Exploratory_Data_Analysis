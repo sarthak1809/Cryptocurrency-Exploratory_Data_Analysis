{
 "cells": [
  {
   "cell_type": "code",
   "execution_count": null,
   "id": "6e3fdec5",
   "metadata": {},
   "outputs": [],
   "source": [
    "import os\n",
    "\n",
    "import pandas as pd\n",
    "import numpy as np\n",
    "import matplotlib.pyplot as plt\n",
    "import seaborn as sns\n",
    "import plotly.express as px\n",
    "import plotly.graph_objects as go\n",
    "from datetime import datetime, timedelta\n",
    "\n"
   ]
  },
  {
   "cell_type": "code",
   "execution_count": null,
   "id": "53f04c3c",
   "metadata": {},
   "outputs": [],
   "source": [
    "df = pd.read_csv(\"D:\\cyrpto eda\\crypto-markets.csv.zip\")\n",
    "display(df)"
   ]
  },
  {
   "cell_type": "code",
   "execution_count": null,
   "id": "0a3913db",
   "metadata": {},
   "outputs": [],
   "source": [
    "df['date']=pd.to_datetime(df['date']).dt.date"
   ]
  },
  {
   "cell_type": "markdown",
   "id": "3ae5f905",
   "metadata": {},
   "source": [
    "# Finding the top 5 crytpocurrencies by market cap"
   ]
  },
  {
   "cell_type": "code",
   "execution_count": null,
   "id": "3b005fdb",
   "metadata": {},
   "outputs": [],
   "source": [
    "plt.figure(figsize=(18,5))\n",
    "ax = df.groupby(['symbol'])['market'].last().sort_values(ascending=False).head(5).sort_values().plot(kind='barh')\n",
    "ax.set_xlabel(\"Market Cap (in billion USD)\")\n",
    "ax.ticklabel_format( style='plain', axis='x')\n",
    "plt.title(\"Top 5 Cryptocurrencies by Market Cap\", fontsize=15)\n",
    "plt.show()"
   ]
  },
  {
   "cell_type": "markdown",
   "id": "4c7b57f2",
   "metadata": {},
   "source": [
    "# Observation:"
   ]
  },
  {
   "cell_type": "markdown",
   "id": "2c89cf6b",
   "metadata": {},
   "source": [
    "From 2013 to 2018, Here we can see that Bitcoin is the highest value according to market cap and  XRP is 20% of it and Etherum is almost 15% of it and all other are very less in comparison to it and Bitcoin cash is 3 times less then Etherum."
   ]
  },
  {
   "cell_type": "code",
   "execution_count": null,
   "id": "49f0ea57",
   "metadata": {},
   "outputs": [],
   "source": [
    "dx=df.copy()\n",
    "\n",
    "top_4_currency_names = dx.groupby(['symbol'])['market'].last().sort_values(ascending=False).head(4).index\n",
    "top_4_currency_names_except_first=dx[dx['symbol']!='BTC'].groupby(['symbol'])['market'].last().sort_values(ascending=False).head(4).index\n",
    "top_4_currency_names_except_first_two=dx[(dx['symbol']!='BTC') & (dx['symbol']!='XRP')].groupby(['symbol'])['market'].last().sort_values(ascending=False).head(4).index\n",
    "top_4_currency_names_except_first_two_three=dx[(dx['symbol']!='BTC') & (dx['symbol']!='XRP')& (dx['symbol']!='ETH')].groupby(['symbol'])['market'].last().sort_values(ascending=False).head(4).index\n",
    "\n",
    "data_top_4_currencies = dx[dx['symbol'].isin(top_4_currency_names)]\n",
    "top_4_currencies_after_BTC = dx[dx['symbol'].isin(top_4_currency_names_except_first)]\n",
    "top_4_currencies_after_BTC_XRP = dx[dx['symbol'].isin(top_4_currency_names_except_first_two)]\n",
    "top_4_currencies_after_BTC_XRP_ETH = dx[dx['symbol'].isin(top_4_currency_names_except_first_two_three)]\n"
   ]
  },
  {
   "cell_type": "code",
   "execution_count": null,
   "id": "3c94647f",
   "metadata": {},
   "outputs": [],
   "source": [
    "plt.figure(figsize=(20,25))\n",
    "\n",
    "plt.subplot(4,1,1)\n",
    "sns.lineplot(data = data_top_4_currencies , x= \"date\", y=\"close\", hue='symbol')\n",
    "plt.title(\"Closing Prices of Top 4 Cryptocurrencies\", fontsize=20)\n",
    "plt.legend(loc='upper left')\n",
    "\n",
    "plt.subplot(4,1,2)\n",
    "sns.lineplot(data=top_4_currencies_after_BTC, x=\"date\", y=\"close\", hue='symbol')\n",
    "plt.title(\"Closing Prices of Top 4 Cryptocurrencies except BTC\", fontsize=20)\n",
    "plt.legend(loc='upper left')\n",
    "\n",
    "plt.subplot(4,1,3)\n",
    "sns.lineplot(data=top_4_currencies_after_BTC_XRP,x=\"date\", y=\"close\", hue='symbol')\n",
    "plt.title(\"Closing Prices of Top 4 Cryptocurrencies except BTC & XRP\", fontsize=20)\n",
    "plt.legend(loc='upper left')\n",
    "\n",
    "plt.subplot(4,1,4)\n",
    "sns.lineplot(data=top_4_currencies_after_BTC_XRP_ETH,x=\"date\", y=\"close\", hue='symbol')\n",
    "plt.title(\"Closing Prices of Top 4 Cryptocurrencies except BTC, XRP & ETH\", fontsize=20)\n",
    "plt.legend(loc='upper left')\n",
    "\n",
    "plt.show()"
   ]
  },
  {
   "cell_type": "code",
   "execution_count": null,
   "id": "2bb13c37",
   "metadata": {},
   "outputs": [],
   "source": [
    "import plotly.express as px"
   ]
  },
  {
   "cell_type": "code",
   "execution_count": null,
   "id": "775a4c40",
   "metadata": {},
   "outputs": [],
   "source": [
    "area = px.area(data_frame= df , x = \"date\" ,y= \"high\", line_group=\"name\" , color = \"name\" , color_discrete_sequence=px.colors.qualitative.Alphabet_r,title = 'Area Plot for TOP Cryptocurrencies')\n",
    "area.update_xaxes(\n",
    "    title_text = 'Date',rangeslider_visible = True,rangeselector = dict(buttons = list([dict(count = 1, label = '1M', step = 'month', stepmode = 'backward'),\n",
    "            dict(count = 6, label = '6M', step = 'month', stepmode = 'backward'),\n",
    "            dict(count = 1, label = 'YTD', step = 'year', stepmode = 'todate'),\n",
    "            dict(count = 1, label = '1Y', step = 'year', stepmode = 'backward'),\n",
    "            dict(step = 'all')])))\n",
    "\n",
    "area.update_yaxes(title_text = 'Price in USD', ticksuffix = '$')\n",
    "area.update_layout(showlegend = True,title = {'text': 'Area Plot for TOP Cryptocurrencies','y':0.9,'x':0.5,'xanchor': 'center',\n",
    "                                              'yanchor': 'top'})\n",
    "\n",
    "area.show()\n"
   ]
  },
  {
   "cell_type": "code",
   "execution_count": null,
   "id": "1249b141",
   "metadata": {},
   "outputs": [],
   "source": [
    "area = px.area(data_frame = df,y  = \"market\" , x = \"date\" , line_group=\"name\", color = \"name\",color_discrete_sequence=px.colors.qualitative.Alphabet, title = 'Market Cap Change of all Cryptocurrencies')\n",
    "area.update_xaxes(title_text = 'Date',rangeslider_visible = True,rangeselector = dict(buttons = list([\n",
    "            dict(count = 1, label = '1M', step = 'month', stepmode = 'backward'),\n",
    "            dict(count = 6, label = '6M', step = 'month', stepmode = 'backward'),\n",
    "            dict(count = 1, label = 'YTD', step = 'year', stepmode = 'todate'),\n",
    "            dict(count = 1, label = '1Y', step = 'year', stepmode = 'backward'),\n",
    "            dict(step = 'all')])))\n",
    "\n",
    "area.update_yaxes(title_text = 'Percentage Change ', ticksuffix = '%')\n",
    "area.update_layout(showlegend = True,title = {'text': 'MarKet Cap Change of all Cryptocurrencies','y':0.9,'x':0.5,'xanchor': 'center','yanchor': 'top'})\n",
    "\n",
    "area.show()"
   ]
  },
  {
   "cell_type": "code",
   "execution_count": null,
   "id": "9df8eee6",
   "metadata": {},
   "outputs": [],
   "source": []
  },
  {
   "cell_type": "code",
   "execution_count": null,
   "id": "e371ddad",
   "metadata": {},
   "outputs": [],
   "source": []
  }
 ],
 "metadata": {
  "kernelspec": {
   "display_name": "Python 3 (ipykernel)",
   "language": "python",
   "name": "python3"
  },
  "language_info": {
   "codemirror_mode": {
    "name": "ipython",
    "version": 3
   },
   "file_extension": ".py",
   "mimetype": "text/x-python",
   "name": "python",
   "nbconvert_exporter": "python",
   "pygments_lexer": "ipython3",
   "version": "3.9.13"
  }
 },
 "nbformat": 4,
 "nbformat_minor": 5
}
